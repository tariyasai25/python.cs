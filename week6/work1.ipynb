{
 "cells": [
  {
   "cell_type": "code",
   "execution_count": null,
   "id": "a2b320be",
   "metadata": {},
   "outputs": [],
   "source": [
    "\n",
    "class Product:\n",
    "    def __init__(self, name, price, quantity):\n",
    "        self.name = name\n",
    "        self.price = price\n",
    "        self.quantity = quantity\n",
    "\n",
    "    def total_value(self):\n",
    "        return self.price * self.quantity\n",
    "\n",
    "    def __repr__(self):\n",
    "        return f\"{self.name} (ราคา: {self.price} บาท, จำนวน: {self.quantity})\"\n",
    "\n",
    "\n",
    "products = [\n",
    "    Product(\"ยางลบ\", 15, 10),\n",
    "    Product(\"ปากกา\", 25, 5),\n",
    "    Product(\"สมุด\", 120, 3),\n",
    "    Product(\"ไม้บรรทัด\", 20, 8)\n",
    "]\n",
    "\n",
    "while True:\n",
    "    name = input(\"ชื่อสินค้า (พิมพ์ 'stop' เพื่อหยุด): \")\n",
    "    if name.lower() == \"stop\":\n",
    "        break\n",
    "    try:\n",
    "        price = float(input(\"ราคาสินค้า: \"))\n",
    "        quantity = int(input(\"จำนวนสินค้า: \"))\n",
    "        products.append(Product(name, price, quantity))\n",
    "    except ValueError:\n",
    "        print(\"กรุณากรอกตัวเลขให้ถูกต้อง\")\n",
    "\n",
    "cheap_products = list(filter(lambda p: p.price < 100, products))\n",
    "print(\"\\nสินค้าราคาต่ำกว่า 100 บาท:\")\n",
    "for p in cheap_products:\n",
    "    print(p)\n",
    "\n",
    "total_values = list(map(lambda p: (p.name, p.total_value()), products))\n",
    "print(\"\\nมูลค่ารวมของแต่ละสินค้า:\")\n",
    "for name, value in total_values:\n",
    "    print(f\"{name}: {value} บาท\")\n",
    "\n",
    "sorted_products = sorted(products, key=lambda p: p.total_value(), reverse=True)\n",
    "print(\"\\nเรียงสินค้าตามมูลค่ารวม (มาก -> น้อย):\")\n",
    "for p in sorted_products:\n",
    "    print(f\"{p.name}: {p.total_value()} บาท\")"
   ]
  }
 ],
 "metadata": {
  "kernelspec": {
   "display_name": "Python 3",
   "language": "python",
   "name": "python3"
  },
  "language_info": {
   "name": "python",
   "version": "3.11.4"
  }
 },
 "nbformat": 4,
 "nbformat_minor": 5
}
