{
 "cells": [
  {
   "cell_type": "code",
   "execution_count": null,
   "id": "6d3d423c",
   "metadata": {},
   "outputs": [
    {
     "name": "stdout",
     "output_type": "stream",
     "text": [
      "<class 'bytes'>\n"
     ]
    }
   ],
   "source": [
    "a= b\"test\"\n",
    "b=1j\n",
    "c=[\"appie\", \"banana\", \"cherry\"]\n",
    "d=(\"appie\", \"banana\", \"cherry\")\n",
    "e=range(6)\n",
    "f={\"a\":\"appie\", \"b\":\"banana\", \"c\":\"cherry\"}\n",
    "g={\"appie\", \"banana\", \"cherry\"}\n",
    "h=true \n",
    "i=b\"hallo\"\n",
    "j=bytearray(5)\n",
    "k=memoryview(bytes(5))\n",
    "l=None\n",
    "print(type(h))"
   ]
  }
 ],
 "metadata": {
  "kernelspec": {
   "display_name": "Python 3",
   "language": "python",
   "name": "python3"
  },
  "language_info": {
   "codemirror_mode": {
    "name": "ipython",
    "version": 3
   },
   "file_extension": ".py",
   "mimetype": "text/x-python",
   "name": "python",
   "nbconvert_exporter": "python",
   "pygments_lexer": "ipython3",
   "version": "3.11.4"
  }
 },
 "nbformat": 4,
 "nbformat_minor": 5
}
